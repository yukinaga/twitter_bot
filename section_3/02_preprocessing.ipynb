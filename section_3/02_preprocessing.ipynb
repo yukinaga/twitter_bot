{
  "nbformat": 4,
  "nbformat_minor": 0,
  "metadata": {
    "colab": {
      "name": "02_preprocessing.ipynb",
      "provenance": [],
      "collapsed_sections": [],
      "toc_visible": true,
      "authorship_tag": "ABX9TyPLRAi3A6YSzHrmdyG37Tzn",
      "include_colab_link": true
    },
    "kernelspec": {
      "name": "python3",
      "display_name": "Python 3"
    }
  },
  "cells": [
    {
      "cell_type": "markdown",
      "metadata": {
        "id": "view-in-github",
        "colab_type": "text"
      },
      "source": [
        "<a href=\"https://colab.research.google.com/github/yukinaga/twitter_bot/blob/master/section_3/02_preprocessing.ipynb\" target=\"_parent\"><img src=\"https://colab.research.google.com/assets/colab-badge.svg\" alt=\"Open In Colab\"/></a>"
      ]
    },
    {
      "cell_type": "markdown",
      "metadata": {
        "id": "LIFP57PbZ6G_"
      },
      "source": [
        "# テキストデータの前処理\n",
        "torchtextを使って、テキストデータをニューラルネットワークへの入力に適した形に整えます。\n"
      ]
    },
    {
      "cell_type": "markdown",
      "metadata": {
        "id": "kAYcGCpVeRIW"
      },
      "source": [
        "## 各設定\n",
        "### APIのkey\n",
        "Twitter Developer PlatformからAPI Key & SecretおよびAccess Token & Secretを取得し、以下のセルの変数に設定します。\n",
        "```\n",
        "api_key =\"API key\"\n",
        "api_key_secret =\"API key secret\"\n",
        "access_token=\"Access token\"\n",
        "access_token_secret =\"Access token secret\"\n",
        "``` "
      ]
    },
    {
      "cell_type": "code",
      "metadata": {
        "id": "YU2eD2eEeVl2"
      },
      "source": [
        "api_key =\n",
        "api_key_secret =\n",
        "access_token =\n",
        "access_token_secret ="
      ],
      "execution_count": null,
      "outputs": []
    },
    {
      "cell_type": "markdown",
      "metadata": {
        "id": "Wi6S4e5gkXAA"
      },
      "source": [
        "## APIの設定\n",
        "Tweepyを利用し、OAuth認証にアクセストークンを設定します。  \n",
        "その上で、Twitterとやり取りするためのAPIを設定します。"
      ]
    },
    {
      "cell_type": "code",
      "metadata": {
        "id": "gpm1fb6nkV5_"
      },
      "source": [
        "import tweepy\n",
        "\n",
        "auth = tweepy.OAuthHandler(api_key, api_key_secret)\n",
        "auth.set_access_token(access_token, access_token_secret)\n",
        "api = tweepy.API(auth)"
      ],
      "execution_count": null,
      "outputs": []
    },
    {
      "cell_type": "markdown",
      "metadata": {
        "id": "dbeonHALP8fU"
      },
      "source": [
        "### ライブラリののインストール\n",
        "分かち書きのためにjanomeを、テキストデータの前処理のためにtorchtextをインストールします。"
      ]
    },
    {
      "cell_type": "code",
      "metadata": {
        "id": "HUm6Vi2wQBfa"
      },
      "source": [
        "!pip install janome==0.4.1\n",
        "!pip install torchvision==0.7.0\n",
        "!pip install torchtext==0.7.0\n",
        "!pip install torch==1.6.0"
      ],
      "execution_count": null,
      "outputs": []
    },
    {
      "cell_type": "markdown",
      "metadata": {
        "id": "ITNwljhs96mY"
      },
      "source": [
        "## Tweetの取得と保存\n",
        "タイムラインのツイートを取得し、csvファイルとして保存します。  "
      ]
    },
    {
      "cell_type": "code",
      "metadata": {
        "id": "EhQbqjYo-BBQ"
      },
      "source": [
        "import csv\n",
        "\n",
        "user_id = \"live_ai_exp\"\n",
        "tweets = api.user_timeline(user_id, count=10)\n",
        "texts = [[tweet.text] for tweet in tweets]  # 内包表記\n",
        "with open(\"texts.csv\", \"w\") as f:\n",
        "    writer = csv.writer(f)\n",
        "    writer.writerows(texts)"
      ],
      "execution_count": null,
      "outputs": []
    },
    {
      "cell_type": "markdown",
      "metadata": {
        "id": "tCXkQ32OtFUL"
      },
      "source": [
        "保存されたcsvファイルを読み込んで、内容を確認しましょう。"
      ]
    },
    {
      "cell_type": "code",
      "metadata": {
        "id": "pdBbV_OoaHXi"
      },
      "source": [
        "with open(\"texts.csv\") as f:\n",
        "    print(f.read())"
      ],
      "execution_count": null,
      "outputs": []
    },
    {
      "cell_type": "markdown",
      "metadata": {
        "id": "zQCZ-SoT8_Or"
      },
      "source": [
        "## データセットの生成\n",
        "Fieldを指定してcsvファイルを読み込み、データセットを生成します。"
      ]
    },
    {
      "cell_type": "code",
      "metadata": {
        "id": "RStOvkWHgMdG"
      },
      "source": [
        "import torchtext\n",
        "from janome.tokenizer import Tokenizer\n",
        "\n",
        "j_tk = Tokenizer()\n",
        "def tokenizer(text): \n",
        "    return [tok for tok in j_tk.tokenize(text, wakati=True)]  # 内包表記\n",
        " \n",
        "# データセットの列を定義\n",
        "text_field = torchtext.data.Field(\n",
        "    sequential=True,  # データ長さが可変かどうか\n",
        "    tokenize=tokenizer,  # 前処理や単語分割などのための関数\n",
        "    batch_first=True,  # バッチの次元を先頭に\n",
        "    lower=True  # アルファベットを小文字に変換\n",
        "    )\n",
        " \n",
        "# csvファイルからデータセットを作成\n",
        "train_dataset = torchtext.data.TabularDataset(\n",
        "    path=\"texts.csv\",\n",
        "    format=\"csv\",\n",
        "    fields=[(\"tw_text\", text_field)]  # 列の設定\n",
        "    )\n",
        "\n",
        "# 列の内容を表示\n",
        "for example in train_dataset.examples:\n",
        "    print(example.tw_text)"
      ],
      "execution_count": null,
      "outputs": []
    },
    {
      "cell_type": "markdown",
      "metadata": {
        "id": "aOpOvldJdMtl"
      },
      "source": [
        "## 単語の埋め込みベクトル化\n",
        "FastTextを使って、単語を埋め込みベクトルに変換します。"
      ]
    },
    {
      "cell_type": "code",
      "metadata": {
        "id": "c6QlG4w2ooXI"
      },
      "source": [
        "from torchtext.vocab import FastText\n",
        "\n",
        "text_field.build_vocab(train_dataset, vectors=FastText(language=\"ja\"))\n",
        "print(text_field.vocab.freqs)  # 各単語の出現頻度\n",
        "print()\n",
        "print(text_field.vocab.stoi)  # 各単語に振られたインデックス\n",
        "print()\n",
        "print(text_field.vocab.vectors.size())  # ベクトルのサイズ\n",
        "print()\n",
        "print(text_field.vocab.vectors[3])  # ベクトルの表示"
      ],
      "execution_count": null,
      "outputs": []
    },
    {
      "cell_type": "markdown",
      "metadata": {
        "id": "OiohzweSnFYZ"
      },
      "source": [
        "## Iteratorの設定\n",
        "バッチごとに学習を行うために、Iteratorを設定します。  \n",
        "これを使えば、データセットから指定したバッチサイズのミニバッチを取り出すことができます。"
      ]
    },
    {
      "cell_type": "code",
      "metadata": {
        "id": "1sMWHKzjTZkZ"
      },
      "source": [
        "# Iteratorの設定\n",
        "train_iterator = torchtext.data.Iterator(\n",
        "    train_dataset,\n",
        "    batch_size=8, \n",
        "    train=True  # シャッフルして取り出す\n",
        ")"
      ],
      "execution_count": null,
      "outputs": []
    },
    {
      "cell_type": "markdown",
      "metadata": {
        "id": "RMR9rJHpEaK8"
      },
      "source": [
        "ミニバッチを取り出して、内容を表示します。  \n",
        "ミニバッチには、単語をインデックスに置き換えた文章が格納されます。\n",
        "\n"
      ]
    },
    {
      "cell_type": "code",
      "metadata": {
        "id": "z_NFDwZopAbr"
      },
      "source": [
        "batch = next(iter(train_iterator))  # ミニバッチを取り出す\n",
        "print(batch.tw_text.size())  # ミニバッチのサイズ\n",
        "print(batch.tw_text[0])  # 最初の要素"
      ],
      "execution_count": null,
      "outputs": []
    },
    {
      "cell_type": "markdown",
      "metadata": {
        "id": "XRk1hBwJz9Ty"
      },
      "source": [
        "## 単語埋め込み層の実装\n",
        "単語を埋め込みベクトルに変換する層を実装します。"
      ]
    },
    {
      "cell_type": "code",
      "metadata": {
        "id": "-V1GVQPAyJMW"
      },
      "source": [
        "import torch\n",
        "\n",
        "class WordEmbedding(torch.nn.Module):\n",
        "    def __init__(self, vectors):\n",
        "        super().__init__()\n",
        "\n",
        "        # 埋め込み層\n",
        "        self.embedding = torch.nn.Embedding.from_pretrained(\n",
        "            embeddings=vectors, freeze=True\n",
        "        )\n",
        "\n",
        "    def forward(self, x):\n",
        "        x = self.embedding(x)  # 単語をベクトルに変換\n",
        "        return x\n",
        "    \n",
        "word_embedding = WordEmbedding(text_field.vocab.vectors)\n",
        "\n",
        "x = batch.tw_text\n",
        "print(x.size())\n",
        "print(x[0])\n",
        "\n",
        "y = word_embedding(x)\n",
        "print(y.size())\n",
        "print(y[0])"
      ],
      "execution_count": null,
      "outputs": []
    }
  ]
}